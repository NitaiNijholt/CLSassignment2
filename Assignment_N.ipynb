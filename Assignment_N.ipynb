{
 "cells": [
  {
   "cell_type": "code",
   "execution_count": 79,
   "metadata": {},
   "outputs": [],
   "source": [
    "# imports\n",
    "import numpy as np\n",
    "import matplotlib.pyplot as plt\n",
    "import matplotlib as mpl\n",
    "import pandas as pd\n",
    "import networkx as nx\n",
    "import ndlib.models.ModelConfig as mc\n",
    "import ndlib.models.epidemics as ep\n",
    "from ndlib.viz.mpl.DiffusionTrend import DiffusionTrend\n"
   ]
  },
  {
   "cell_type": "markdown",
   "metadata": {},
   "source": [
    "# CLS assignment 2: Networked part"
   ]
  },
  {
   "cell_type": "code",
   "execution_count": 80,
   "metadata": {},
   "outputs": [],
   "source": [
    "# set MPL to render plots by chosing backend\n",
    "mpl.use('TkAgg')"
   ]
  },
  {
   "cell_type": "code",
   "execution_count": 81,
   "metadata": {},
   "outputs": [],
   "source": [
    "# assuming an undirected graph\n",
    "\n",
    "# parameters\n",
    "\n",
    "N = 1000 # number of nodes\n",
    "p = 0.1 # probability link creation\n",
    "# Example: Creating a simple graph with 1000 nodes and a 0.1 probability of edge creation\n",
    "g = nx.erdos_renyi_graph(N, p)\n",
    "\n"
   ]
  },
  {
   "cell_type": "code",
   "execution_count": 82,
   "metadata": {},
   "outputs": [],
   "source": [
    "SIR_model_randomgraph = ep.SIRModel(g)"
   ]
  },
  {
   "cell_type": "code",
   "execution_count": 83,
   "metadata": {},
   "outputs": [
    {
     "name": "stderr",
     "output_type": "stream",
     "text": [
      "C:\\Users\\nitai\\AppData\\Local\\Packages\\PythonSoftwareFoundation.Python.3.11_qbz5n2kfra8p0\\LocalCache\\local-packages\\Python311\\site-packages\\ndlib\\models\\DiffusionModel.py:120: UserWarning: Initial infection missing: a random sample of 5% of graph nodes will be set as infected\n",
      "  warnings.warn('Initial infection missing: a random sample of 5% of graph nodes will be set as infected')\n"
     ]
    }
   ],
   "source": [
    "config = mc.Configuration()\n",
    "config.add_model_parameter('beta', 0.002)  # Infection probability\n",
    "config.add_model_parameter('gamma', 0.05)  # Recovery probability\n",
    "SIR_model_randomgraph.set_initial_status(config)\n",
    "\n",
    "# Example: Infecting node 0\n",
    "config.add_model_initial_configuration(\"Infected\", 0.05*N)\n",
    "\n",
    "\n"
   ]
  },
  {
   "cell_type": "code",
   "execution_count": 84,
   "metadata": {},
   "outputs": [],
   "source": [
    "iterations = SIR_model_randomgraph.iteration_bunch(200)  # Execute 200 iterations\n",
    "trends = SIR_model_randomgraph.build_trends(iterations)"
   ]
  },
  {
   "cell_type": "code",
   "execution_count": 85,
   "metadata": {},
   "outputs": [],
   "source": [
    "# for iteration, status in enumerate(iterations):\n",
    "#     print(f\"Iteration {iteration}:\")\n",
    "#     print(\"Node status:\", status['status'])\n",
    "#     print(\"-----\")"
   ]
  },
  {
   "cell_type": "code",
   "execution_count": 86,
   "metadata": {},
   "outputs": [
    {
     "data": {
      "text/plain": [
       "1"
      ]
     },
     "execution_count": 86,
     "metadata": {},
     "output_type": "execute_result"
    }
   ],
   "source": [
    "len(trends)"
   ]
  },
  {
   "cell_type": "code",
   "execution_count": 87,
   "metadata": {},
   "outputs": [
    {
     "data": {
      "text/plain": [
       "483"
      ]
     },
     "execution_count": 87,
     "metadata": {},
     "output_type": "execute_result"
    }
   ],
   "source": [
    "trends[0]['trends']['node_count'][0][21]"
   ]
  },
  {
   "cell_type": "code",
   "execution_count": 88,
   "metadata": {},
   "outputs": [],
   "source": [
    "from ndlib.viz.mpl.DiffusionTrend import DiffusionTrend\n",
    "\n",
    "# Visualize the diffusion trend\n",
    "viz = DiffusionTrend(SIR_model_randomgraph, trends)\n",
    "viz.plot()\n",
    "plt.show()\n"
   ]
  },
  {
   "cell_type": "code",
   "execution_count": 89,
   "metadata": {},
   "outputs": [],
   "source": [
    "def simulate_sir_random_graph(N, k, network_type='erdos_renyi', p=None, beta=0.002, gamma=0.05, initial_i_proportion=0.1, iterations=200, graph=False):\n",
    "    \"\"\"\n",
    "    Simulate an SIR model on Network based on an Erdos_Renyi model (default), Watts_Strogatz model or Barabasi_Albert model.\n",
    "\n",
    "    Parameters:\n",
    "    N (int): Total number of nodes in the graph.\n",
    "    k (int): Expected degree of nodes in the graph.\n",
    "    p (float, optional): Probability of edge creation between nodes. \n",
    "        Defaults to None, in which case it is calculated as k/(N-1).\n",
    "    beta (float, optional): Infection probability per edge. Defaults to 0.002.\n",
    "    gamma (float, optional): Recovery probability. Defaults to 0.05.\n",
    "    initial_i_proportion (float, optional): Initial proportion of infected nodes. \n",
    "        Defaults to 0.1.\n",
    "    iterations (int, optional): Number of iterations for the simulation. Defaults to 200.\n",
    "    graph (bool, optional): Whether to plot the SIR trend or not. Defaults to False.\n",
    "\n",
    "    Returns:\n",
    "    tuple: A tuple containing the SIR model and the trends of the simulation.\n",
    "        - SIR_model_randomgraph (ep.SIRModel): The SIR model on the random graph.\n",
    "        - trends (list): A list of dictionaries containing the S, I, R counts per iteration.\n",
    "    \"\"\"\n",
    "    \n",
    "    # If p is not provided, calculate it based on k and N\n",
    "    if p:\n",
    "        p = p\n",
    "    else:\n",
    "        p = k/(N-1)\n",
    "        \n",
    "    # Creating a random graph using Erdős–Rényi model\n",
    "    if network_type == 'erdos_renyi':\n",
    "        network_type = nx.erdos_renyi_graph(N, p)\n",
    "    elif network_type == 'watts_strogatz':\n",
    "        network_type = nx.watts_strogatz_graph(N, k, p)\n",
    "    elif network_type == 'barabasi_albert':\n",
    "        network_type = nx.barabasi_albert_graph(N, k)\n",
    "\n",
    "    sir_model= ep.SIRModel(network_type)\n",
    "    \n",
    "    # Setting up the SIR model with specified parameters\n",
    "    initial_i = int(initial_i_proportion * N)\n",
    "    config = mc.Configuration()\n",
    "    config.add_model_parameter('beta', beta)  # Infection probability per edge\n",
    "    config.add_model_parameter('gamma', gamma)  # Recovery probability\n",
    "    sir_model.set_initial_status(config)\n",
    "    config.add_model_initial_configuration(\"Infected\", initial_i)\n",
    "\n",
    "    # Running the SIR model for specified iterations\n",
    "    iterations = sir_model.iteration_bunch(iterations) \n",
    "    trends = sir_model.build_trends(iterations)\n",
    "\n",
    "    # Graphing the SIR trends if graph parameter is True\n",
    "    if graph:\n",
    "        viz = DiffusionTrend(sir_model, trends)\n",
    "        viz.plot()\n",
    "\n",
    "    return sir_model, trends\n"
   ]
  },
  {
   "cell_type": "code",
   "execution_count": 90,
   "metadata": {},
   "outputs": [],
   "source": [
    "def get_network_statistics(graph):\n",
    "    return {\n",
    "        \"Average Degree\": sum(dict(graph.degree()).values()) / len(graph),\n",
    "        \"Clustering Coefficient\": nx.average_clustering(graph),\n",
    "        \"Average Shortest Path Length\": nx.average_shortest_path_length(graph)\n",
    "    }\n"
   ]
  },
  {
   "cell_type": "code",
   "execution_count": 91,
   "metadata": {},
   "outputs": [],
   "source": [
    "def simulate_sir_on_network(N, k, network_type='erdos_renyi', p=None, beta=0.002, gamma=0.05, initial_i_proportion=0.1, iterations=200, graph=False):\n",
    "    \"\"\"\n",
    "    Simulate an SIR model on Network based on an Erdos_Renyi model (default), Watts_Strogatz model or Barabasi_Albert model.\n",
    "\n",
    "    Parameters:\n",
    "    N (float or list of float): Total number of nodes in the graph.\n",
    "    k (float or list of float): Expected degree of nodes in the graph.\n",
    "    p (float or list of float, optional): Probability of edge creation between nodes. \n",
    "        Defaults to None, in which case it is calculated as k/(N-1).\n",
    "    beta (float, optional): Infection probability per edge. Defaults to 0.002.\n",
    "    gamma (float, optional): Recovery probability. Defaults to 0.05.\n",
    "    initial_i_proportion (float, optional): Initial proportion of infected nodes. \n",
    "        Defaults to 0.1.\n",
    "    iterations (int, optional): Number of iterations for the simulation. Defaults to 200.\n",
    "    graph (bool, optional): Whether to plot the SIR trend or not. Defaults to False.\n",
    "\n",
    "    Returns:\n",
    "    list of tuples: Each tuple contains the SIR model and the trends of the simulation for each combination of N, k, and p.\n",
    "        - SIR_model_randomgraph (ep.SIRModel): The SIR model on the random graph.\n",
    "        - trends (list): A list of dictionaries containing the S, I, R counts per iteration.\n",
    "    \"\"\"\n",
    "    \n",
    "    # Ensure N, k, and p are lists\n",
    "    if not isinstance(N, list): N = [N]\n",
    "    if not isinstance(k, list): k = [k]\n",
    "    if not isinstance(p, list): p = [p]\n",
    "    \n",
    "    results = []\n",
    "    \n",
    "    for n in N:\n",
    "        for degree in k:\n",
    "            for probability in p:\n",
    "                \n",
    "                # If probability is not provided, calculate it based on degree and n\n",
    "                if probability:\n",
    "                    probability = probability\n",
    "                else:\n",
    "                    probability = degree/(n-1)\n",
    "\n",
    "                # Creating a random graph\n",
    "                if network_type == 'erdos_renyi':\n",
    "                    network = nx.erdos_renyi_graph(int(n), probability)\n",
    "                elif network_type == 'watts_strogatz':\n",
    "                    network = nx.watts_strogatz_graph(int(n), int(degree), probability)\n",
    "                elif network_type == 'barabasi_albert':\n",
    "                    network = nx.barabasi_albert_graph(int(n), int(degree))\n",
    "\n",
    "                sir_model= ep.SIRModel(network)\n",
    "\n",
    "                # Setting up the SIR model with specified parameters\n",
    "                initial_i = int(initial_i_proportion * n)\n",
    "                config = mc.Configuration()\n",
    "                config.add_model_parameter('beta', beta)  # Infection probability per edge\n",
    "                config.add_model_parameter('gamma', gamma)  # Recovery probability\n",
    "                sir_model.set_initial_status(config)\n",
    "                config.add_model_initial_configuration(\"Infected\", initial_i)\n",
    "\n",
    "                # Running the SIR model for specified iterations\n",
    "                iters = sir_model.iteration_bunch(iterations) \n",
    "                trends = sir_model.build_trends(iters)\n",
    "\n",
    "                # Graphing the SIR trends if graph parameter is True\n",
    "                if graph:\n",
    "                    # Assuming DiffusionTrend is imported from ndlib.viz.mpl.DiffusionTrend\n",
    "                    viz = DiffusionTrend(sir_model, trends)\n",
    "                    viz.plot()\n",
    "                    \n",
    "                results.append((sir_model, trends))\n",
    "                \n",
    "    return results"
   ]
  },
  {
   "cell_type": "code",
   "execution_count": null,
   "metadata": {},
   "outputs": [],
   "source": []
  },
  {
   "cell_type": "code",
   "execution_count": 92,
   "metadata": {},
   "outputs": [],
   "source": [
    "# setting up simulation for multiple parameters\n",
    "\n",
    "# parameters\n",
    "N = 1000 # number of nodes\n",
    "k_list = [0.5, 1, 5, 10] # expected degree of nodes in the graph\n",
    "n_runs = 1 # number of runs per parameter\n",
    "\n",
    "# running simulation for multiple parameters"
   ]
  },
  {
   "cell_type": "code",
   "execution_count": 93,
   "metadata": {},
   "outputs": [],
   "source": [
    "beta_list = [0.002, 0.004, 0.01, 0.03, 0.05]\n",
    "gamma_list = [0.05, 0.1, 0.15, 0.2, 0.25]\n",
    "reverse_gamma_list = gamma_list[::-1]"
   ]
  },
  {
   "cell_type": "code",
   "execution_count": 94,
   "metadata": {},
   "outputs": [],
   "source": [
    "def combined_network_statistics(graph, plot=False, caption=None):\n",
    "    \"\"\"\n",
    "    Compute basic statistics, centrality measures, and optional visualizations for a given network/graph.\n",
    "\n",
    "    Parameters:\n",
    "    - graph (NetworkX graph): The graph for which statistics and visualizations are to be computed.\n",
    "    - plot (bool, optional): If True, plots degree distribution, degree centrality, eigenvector centrality,\n",
    "                             and betweenness centrality. Default is False.\n",
    "    - caption (str, optional): Caption to be added to the bottom of the figure if plotting is enabled.\n",
    "                               Default is None.\n",
    "\n",
    "    Returns:\n",
    "    - stats_df (pandas DataFrame): DataFrame containing basic statistics and centrality measures of the graph.\n",
    "    - degree_dist_df (pandas DataFrame): DataFrame containing degree distribution of the graph.\n",
    "\n",
    "    Notes:\n",
    "    - Basic statistics include: Average Degree, Clustering Coefficient, Average Shortest Path Length, and Max Path Length.\n",
    "    - Centrality measures include: Average Degree Centrality, Average Eigenvector Centrality, and Average Betweenness Centrality.\n",
    "    - Plots are displayed in the order: Degree Distribution, Degree Centrality, Eigenvector Centrality, and Betweenness Centrality.\n",
    "    - Ensure required libraries (e.g., NetworkX, matplotlib, pandas) are imported before using this function.\n",
    "    \"\"\"\n",
    "    # Basic statistics\n",
    "    stats = {\n",
    "        \"Average Degree\": sum(dict(graph.degree()).values()) / len(graph),\n",
    "        \"Clustering Coefficient\": nx.average_clustering(graph),\n",
    "        \"Average Shortest Path Length\": nx.average_shortest_path_length(graph),\n",
    "        \"Max Path Length\": nx.diameter(graph)\n",
    "    }\n",
    "    \n",
    "    # Centrality measures\n",
    "    degree_centrality = nx.degree_centrality(graph)\n",
    "    eigenvector_centrality = nx.eigenvector_centrality(graph, max_iter=500)\n",
    "    betweenness_centrality = nx.betweenness_centrality(graph)\n",
    "    \n",
    "    stats[\"Average Degree Centrality\"] = sum(degree_centrality.values()) / len(graph)\n",
    "    stats[\"Average Eigenvector Centrality\"] = sum(eigenvector_centrality.values()) / len(graph)\n",
    "    stats[\"Average Betweenness Centrality\"] = sum(betweenness_centrality.values()) / len(graph)\n",
    "    \n",
    "    # Plotting\n",
    "    if plot:\n",
    "        plt.figure(figsize=(20, 5))\n",
    "        \n",
    "        # Degree Distribution\n",
    "        degree_sequence = sorted([d for n, d in graph.degree()], reverse=True)\n",
    "        plt.subplot(1, 4, 1)\n",
    "        plt.hist(degree_sequence, bins=50)\n",
    "        plt.title(\"Degree Distribution\")\n",
    "        plt.xlabel(\"Degree\")\n",
    "        plt.ylabel(\"Number of Nodes\")\n",
    "        \n",
    "        # Degree Centrality\n",
    "        plt.subplot(1, 4, 2)\n",
    "        plt.hist(list(degree_centrality.values()), bins=50, color='skyblue')\n",
    "        plt.title(\"Degree Centrality\")\n",
    "        plt.xlabel(\"Degree Centrality\")\n",
    "        plt.ylabel(\"Number of Nodes\")\n",
    "    \n",
    "        # Eigenvector Centrality\n",
    "        plt.subplot(1, 4, 3)\n",
    "        plt.hist(list(eigenvector_centrality.values()), bins=50, color='salmon')\n",
    "        plt.title(\"Eigenvector Centrality\")\n",
    "        plt.xlabel(\"Eigenvector Centrality\")\n",
    "        plt.ylabel(\"Number of Nodes\")\n",
    "    \n",
    "        # Betweenness Centrality\n",
    "        plt.subplot(1, 4, 4)\n",
    "        plt.hist(list(betweenness_centrality.values()), bins=50, color='lightgreen')\n",
    "        plt.title(\"Betweenness Centrality\")\n",
    "        plt.xlabel(\"Betweenness Centrality\")\n",
    "        plt.ylabel(\"Number of Nodes\")\n",
    "        \n",
    "        # Add figure caption\n",
    "        plt.figtext(0.5, -0.05, caption, ha=\"center\", fontsize=12, bbox={\"facecolor\":\"white\", \"alpha\":0.5, \"pad\":5})\n",
    "        \n",
    "        plt.tight_layout()\n",
    "        plt.show()\n",
    "    \n",
    "    # Convert statistics dictionary to DataFrame for better representation\n",
    "    stats_df = pd.DataFrame([stats])\n",
    "    degree_dist_df = pd.DataFrame({\"Degree\": degree_sequence})\n",
    "    \n",
    "    return stats_df, degree_dist_df"
   ]
  },
  {
   "cell_type": "code",
   "execution_count": 98,
   "metadata": {},
   "outputs": [],
   "source": [
    "for beta,gamma in zip(beta_list[-3:-1], reverse_gamma_list[-3:-1]):\n",
    "    # for k in k_list:\n",
    "        for run in range(n_runs):\n",
    "            sir_model_randomgraph, trends = simulate_sir_on_network(network_type='watts_strogatz', N=N, k=k, beta=beta, gamma=gamma, graph=True)[0]\n",
    "            # combined_network_statistics(sir_model_randomgraph, plot=True)\n",
    "            "
   ]
  },
  {
   "cell_type": "code",
   "execution_count": null,
   "metadata": {},
   "outputs": [
    {
     "name": "stderr",
     "output_type": "stream",
     "text": [
      "C:\\Users\\nitai\\AppData\\Local\\Packages\\PythonSoftwareFoundation.Python.3.11_qbz5n2kfra8p0\\LocalCache\\local-packages\\Python311\\site-packages\\ndlib\\models\\DiffusionModel.py:120: UserWarning: Initial infection missing: a random sample of 5% of graph nodes will be set as infected\n",
      "  warnings.warn('Initial infection missing: a random sample of 5% of graph nodes will be set as infected')\n"
     ]
    },
    {
     "ename": "AttributeError",
     "evalue": "'AGraph' object has no attribute 'degree'",
     "output_type": "error",
     "traceback": [
      "\u001b[1;31m---------------------------------------------------------------------------\u001b[0m",
      "\u001b[1;31mAttributeError\u001b[0m                            Traceback (most recent call last)",
      "\u001b[1;32mc:\\Users\\nitai\\OneDrive\\MScCLS\\IntroCLS\\Assignment_2\\CLSassignment2\\Assignment_N.ipynb Cell 20\u001b[0m line \u001b[0;36m4\n\u001b[0;32m      <a href='vscode-notebook-cell:/c%3A/Users/nitai/OneDrive/MScCLS/IntroCLS/Assignment_2/CLSassignment2/Assignment_N.ipynb#X25sZmlsZQ%3D%3D?line=1'>2</a>\u001b[0m sir_model \u001b[39m=\u001b[39m results[\u001b[39m0\u001b[39m][\u001b[39m0\u001b[39m]\n\u001b[0;32m      <a href='vscode-notebook-cell:/c%3A/Users/nitai/OneDrive/MScCLS/IntroCLS/Assignment_2/CLSassignment2/Assignment_N.ipynb#X25sZmlsZQ%3D%3D?line=2'>3</a>\u001b[0m network \u001b[39m=\u001b[39m sir_model\u001b[39m.\u001b[39mgraph\n\u001b[1;32m----> <a href='vscode-notebook-cell:/c%3A/Users/nitai/OneDrive/MScCLS/IntroCLS/Assignment_2/CLSassignment2/Assignment_N.ipynb#X25sZmlsZQ%3D%3D?line=3'>4</a>\u001b[0m stats_df, degree_df \u001b[39m=\u001b[39m combined_network_statistics(network, plot\u001b[39m=\u001b[39;49m\u001b[39mTrue\u001b[39;49;00m)\n",
      "\u001b[1;32mc:\\Users\\nitai\\OneDrive\\MScCLS\\IntroCLS\\Assignment_2\\CLSassignment2\\Assignment_N.ipynb Cell 20\u001b[0m line \u001b[0;36m2\n\u001b[0;32m      <a href='vscode-notebook-cell:/c%3A/Users/nitai/OneDrive/MScCLS/IntroCLS/Assignment_2/CLSassignment2/Assignment_N.ipynb#X25sZmlsZQ%3D%3D?line=1'>2</a>\u001b[0m \u001b[39m\u001b[39m\u001b[39m\"\"\"\u001b[39;00m\n\u001b[0;32m      <a href='vscode-notebook-cell:/c%3A/Users/nitai/OneDrive/MScCLS/IntroCLS/Assignment_2/CLSassignment2/Assignment_N.ipynb#X25sZmlsZQ%3D%3D?line=2'>3</a>\u001b[0m \u001b[39mCompute basic statistics, centrality measures, and optional visualizations for a given network/graph.\u001b[39;00m\n\u001b[0;32m      <a href='vscode-notebook-cell:/c%3A/Users/nitai/OneDrive/MScCLS/IntroCLS/Assignment_2/CLSassignment2/Assignment_N.ipynb#X25sZmlsZQ%3D%3D?line=3'>4</a>\u001b[0m \n\u001b[1;32m   (...)\u001b[0m\n\u001b[0;32m     <a href='vscode-notebook-cell:/c%3A/Users/nitai/OneDrive/MScCLS/IntroCLS/Assignment_2/CLSassignment2/Assignment_N.ipynb#X25sZmlsZQ%3D%3D?line=19'>20</a>\u001b[0m \u001b[39m- Ensure required libraries (e.g., NetworkX, matplotlib, pandas) are imported before using this function.\u001b[39;00m\n\u001b[0;32m     <a href='vscode-notebook-cell:/c%3A/Users/nitai/OneDrive/MScCLS/IntroCLS/Assignment_2/CLSassignment2/Assignment_N.ipynb#X25sZmlsZQ%3D%3D?line=20'>21</a>\u001b[0m \u001b[39m\"\"\"\u001b[39;00m\n\u001b[0;32m     <a href='vscode-notebook-cell:/c%3A/Users/nitai/OneDrive/MScCLS/IntroCLS/Assignment_2/CLSassignment2/Assignment_N.ipynb#X25sZmlsZQ%3D%3D?line=21'>22</a>\u001b[0m \u001b[39m# Basic statistics\u001b[39;00m\n\u001b[0;32m     <a href='vscode-notebook-cell:/c%3A/Users/nitai/OneDrive/MScCLS/IntroCLS/Assignment_2/CLSassignment2/Assignment_N.ipynb#X25sZmlsZQ%3D%3D?line=22'>23</a>\u001b[0m stats \u001b[39m=\u001b[39m {\n\u001b[1;32m---> <a href='vscode-notebook-cell:/c%3A/Users/nitai/OneDrive/MScCLS/IntroCLS/Assignment_2/CLSassignment2/Assignment_N.ipynb#X25sZmlsZQ%3D%3D?line=23'>24</a>\u001b[0m     \u001b[39m\"\u001b[39m\u001b[39mAverage Degree\u001b[39m\u001b[39m\"\u001b[39m: \u001b[39msum\u001b[39m(\u001b[39mdict\u001b[39m(graph\u001b[39m.\u001b[39;49mdegree())\u001b[39m.\u001b[39mvalues()) \u001b[39m/\u001b[39m \u001b[39mlen\u001b[39m(graph),\n\u001b[0;32m     <a href='vscode-notebook-cell:/c%3A/Users/nitai/OneDrive/MScCLS/IntroCLS/Assignment_2/CLSassignment2/Assignment_N.ipynb#X25sZmlsZQ%3D%3D?line=24'>25</a>\u001b[0m     \u001b[39m\"\u001b[39m\u001b[39mClustering Coefficient\u001b[39m\u001b[39m\"\u001b[39m: nx\u001b[39m.\u001b[39maverage_clustering(graph),\n\u001b[0;32m     <a href='vscode-notebook-cell:/c%3A/Users/nitai/OneDrive/MScCLS/IntroCLS/Assignment_2/CLSassignment2/Assignment_N.ipynb#X25sZmlsZQ%3D%3D?line=25'>26</a>\u001b[0m     \u001b[39m\"\u001b[39m\u001b[39mAverage Shortest Path Length\u001b[39m\u001b[39m\"\u001b[39m: nx\u001b[39m.\u001b[39maverage_shortest_path_length(graph),\n\u001b[0;32m     <a href='vscode-notebook-cell:/c%3A/Users/nitai/OneDrive/MScCLS/IntroCLS/Assignment_2/CLSassignment2/Assignment_N.ipynb#X25sZmlsZQ%3D%3D?line=26'>27</a>\u001b[0m     \u001b[39m\"\u001b[39m\u001b[39mMax Path Length\u001b[39m\u001b[39m\"\u001b[39m: nx\u001b[39m.\u001b[39mdiameter(graph)\n\u001b[0;32m     <a href='vscode-notebook-cell:/c%3A/Users/nitai/OneDrive/MScCLS/IntroCLS/Assignment_2/CLSassignment2/Assignment_N.ipynb#X25sZmlsZQ%3D%3D?line=27'>28</a>\u001b[0m }\n\u001b[0;32m     <a href='vscode-notebook-cell:/c%3A/Users/nitai/OneDrive/MScCLS/IntroCLS/Assignment_2/CLSassignment2/Assignment_N.ipynb#X25sZmlsZQ%3D%3D?line=29'>30</a>\u001b[0m \u001b[39m# Centrality measures\u001b[39;00m\n\u001b[0;32m     <a href='vscode-notebook-cell:/c%3A/Users/nitai/OneDrive/MScCLS/IntroCLS/Assignment_2/CLSassignment2/Assignment_N.ipynb#X25sZmlsZQ%3D%3D?line=30'>31</a>\u001b[0m degree_centrality \u001b[39m=\u001b[39m nx\u001b[39m.\u001b[39mdegree_centrality(graph)\n",
      "\u001b[1;31mAttributeError\u001b[0m: 'AGraph' object has no attribute 'degree'"
     ]
    }
   ],
   "source": [
    "results = simulate_sir_on_network(N=1000, k=6, network_type='watts_strogatz', beta=0.002, gamma=0.05, graph=False)\n",
    "sir_model = results[0][0]\n",
    "network = sir_model.graph\n",
    "stats_df, degree_df = combined_network_statistics(network, plot=True)\n",
    "\n"
   ]
  }
 ],
 "metadata": {
  "kernelspec": {
   "display_name": "Python 3",
   "language": "python",
   "name": "python3"
  },
  "language_info": {
   "codemirror_mode": {
    "name": "ipython",
    "version": 3
   },
   "file_extension": ".py",
   "mimetype": "text/x-python",
   "name": "python",
   "nbconvert_exporter": "python",
   "pygments_lexer": "ipython3",
   "version": "3.11.6"
  }
 },
 "nbformat": 4,
 "nbformat_minor": 2
}
